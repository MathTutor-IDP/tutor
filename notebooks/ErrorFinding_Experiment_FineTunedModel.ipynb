{
 "cells": [
  {
   "cell_type": "code",
   "execution_count": null,
   "id": "32ed057b-d50a-484a-8029-3250dfadce62",
   "metadata": {},
   "outputs": [],
   "source": [
    "cd .."
   ]
  },
  {
   "cell_type": "code",
   "execution_count": null,
   "id": "d80a878f-f45a-4851-977a-d345679d2ce7",
   "metadata": {},
   "outputs": [],
   "source": [
    "%load_ext autoreload"
   ]
  },
  {
   "cell_type": "code",
   "execution_count": null,
   "id": "0689fefd-183c-4751-8ac4-25089bbfdffe",
   "metadata": {},
   "outputs": [],
   "source": [
    "%autoreload 2"
   ]
  },
  {
   "cell_type": "code",
   "execution_count": null,
   "id": "30853511-785c-41f6-9eea-7b6e3c56b2b6",
   "metadata": {},
   "outputs": [],
   "source": [
    "from src.model.GPT import GPTModel\n",
    "from src.datasets.MATH import MATH, MATHRecord\n",
    "\n",
    "# Prepare dataset\n",
    "dataset = MATH('data/math.jsonl')\n",
    "dataset.records = [rec for rec in dataset.records if len(rec.formatted_solution) < 750]\n",
    "# random.shuffle(dataset.records)\n",
    "print(dataset.categories)\n",
    "\n",
    "# Prepare model\n",
    "gpt = GPTModel(model=\"ft:gpt-3.5-turbo-0125:tum-sot-hctl::9MisNHwy\", temperature=1, max_tokens=500)\n"
   ]
  },
  {
   "cell_type": "code",
   "execution_count": null,
   "id": "8e4eb4f6-7907-4e7f-bf8b-373aa53092bb",
   "metadata": {},
   "outputs": [],
   "source": [
    "record = dataset[0]\n",
    "user_input = \"\"\n",
    "user_input += 'QUESTION: ' + record.question + '\\n'\n",
    "user_input += 'CORRECT SOLUTION: ' + record.formatted_solution + '\\n'\n",
    "user_input += 'STUDENT\\'S SOLUTION: ' + record.formatted_solution.replace('a+b=-3+3=\\\\boxed{0}', 'a+b=3+3=\\\\boxed{6}')\n"
   ]
  },
  {
   "cell_type": "code",
   "execution_count": null,
   "id": "12732efd-e747-4dc0-862a-968d5e8e92ab",
   "metadata": {},
   "outputs": [],
   "source": [
    "user_input"
   ]
  },
  {
   "cell_type": "code",
   "execution_count": null,
   "id": "0467d72f-f188-4972-af2d-bb3db8de0ab2",
   "metadata": {},
   "outputs": [],
   "source": [
    "out = gpt.query(user_input)"
   ]
  },
  {
   "cell_type": "code",
   "execution_count": null,
   "id": "d3cc96b2-5bf0-4c1b-827e-3d6303925699",
   "metadata": {},
   "outputs": [],
   "source": [
    "print(user_input)"
   ]
  },
  {
   "cell_type": "code",
   "execution_count": null,
   "id": "13badc81-9971-464b-b3e5-bb941212b4d1",
   "metadata": {},
   "outputs": [],
   "source": [
    "print(out[0])"
   ]
  },
  {
   "cell_type": "code",
   "execution_count": null,
   "id": "cc2c0d98-5852-4855-a5a2-47dbe45a2760",
   "metadata": {},
   "outputs": [],
   "source": [
    "from IPython.display import display, Math, Latex\n",
    "\n",
    "QUESTION =  r\"Find the 6-digit repetend in the decimal representation of $\\frac 3{13}.$\"\n",
    "CORRECT_SOLUTION = r\"We use long division to find that the decimal representation of $\\frac{3}{13}$ is $0.\\overline{230769},$ which has a repeating block of 6 digits. So the repetend is $\\boxed{230769}.$.\"\n",
    "STUDENT = r\"We use long division to find that the decimal representation of $\\frac{3}{13}$ is $0.\\overline{230795},$ which has a repeating block of 6 digits. So the repetend is $\\boxed{230795}$.\"\n",
    "\n",
    "ERROR_EXPLANATION = r\"Student potentially forgets to carry over a remainder in long division or misidentifies the repeating block of digits, leading to an incorrect 6-digit repetend.\"\n",
    "ERROR_TYPE = r\"CONCENTRATION\"\n"
   ]
  },
  {
   "cell_type": "code",
   "execution_count": null,
   "id": "e627801a-4b41-470c-80f3-3552cf57f159",
   "metadata": {},
   "outputs": [],
   "source": [
    "display(Latex(r\"$\\textbf{QUESTION: }$\"))\n",
    "display(Latex(QUESTION))\n",
    "\n",
    "display(Latex(r\"$\\textbf{CORRECT SOLUTION: }$\"))\n",
    "display(Latex(CORRECT_SOLUTION))\n",
    "\n",
    "display(Latex(r\"$\\textbf{STUDENT SOLUTION \" + \": }$\"))\n",
    "display(Latex(STUDENT))\n",
    "\n",
    "display(Latex(r\"############################################\"))\n",
    "\n",
    "display(Latex(r\"$\\textbf{ERROR EXPLANATION \" + \": }$\"))\n",
    "display(Latex(ERROR_EXPLANATION))\n",
    "\n",
    "display(Latex(r\"$\\textbf{ERROR TYPE \" + \": }$\"))\n",
    "display(Latex(ERROR_TYPE))"
   ]
  },
  {
   "cell_type": "code",
   "execution_count": null,
   "id": "051efcc1-ae38-4f32-9bdb-e98890767fab",
   "metadata": {},
   "outputs": [],
   "source": [
    "from IPython.display import display, Math, Latex\n",
    "\n",
    "QUESTION =  r\" What is the greatest integer less than 100 for which the greatest common divisor of that integer and 12 is 4?\"\n",
    "CORRECT_SOLUTION = r\"The prime factors of 12 are 2, 2, and 3. If the greatest common factor with 12 is 4, that means the other number is a multiple of 4 but not 6, 12. Since the other number must an even number (multiple of 2), we start with 98 and look at decreasing even numbers. 98 is not a multiple of 4. 96 is a multiple of 6 and 12. 94 is not a multiple of 4. So, the greatest integer less than 100 that satisfies the conditions is $\\boxed{92}$.\"\n",
    "STUDENT = r\"The prime factors of 12 are 2, 2, and 3. If the greatest common factor with 12 is 4, that means the other number is a multiple of 4 but not 6, 12. Since the other number must an even number (multiple of 2), we start with 98 and look at decreasing even numbers. 98 is not a multiple of 4. 96 is a multiple of 6 and 12. 94 is not a multiple of 4. So, the greatest integer less than 100 that satisfies the conditions is $\\boxed{96}$\"\n",
    "\n",
    "ERROR_EXPLANATION = r\"A potential error that could be performed while attempting to solve this question is misunderstanding the concept of greatest common divisor. The student might mistakenly think that the greatest common divisor should be the highest prime factor shared between the two numbers involved, rather than the greatest factor that divides both numbers. This misconception could lead to choosing an incorrect number as the greatest integer satisfying the conditions.\"\n",
    "ERROR_TYPE = r\"CONCENTRATION\""
   ]
  },
  {
   "cell_type": "code",
   "execution_count": null,
   "id": "54b2f8e0-7c77-45fc-8c7a-130b2615d79d",
   "metadata": {},
   "outputs": [],
   "source": [
    "display(Latex(r\"$\\textbf{QUESTION: }$\"))\n",
    "display(Latex(QUESTION))\n",
    "\n",
    "display(Latex(r\"$\\textbf{CORRECT SOLUTION: }$\"))\n",
    "display(Latex(CORRECT_SOLUTION))\n",
    "\n",
    "display(Latex(r\"$\\textbf{STUDENT SOLUTION \" + \": }$\"))\n",
    "display(Latex(STUDENT))\n",
    "\n",
    "display(Latex(r\"############################################\"))\n",
    "\n",
    "display(Latex(r\"$\\textbf{ERROR EXPLANATION \" + \": }$\"))\n",
    "display(Latex(ERROR_EXPLANATION))\n",
    "\n",
    "display(Latex(r\"$\\textbf{ERROR TYPE \" + \": }$\"))\n",
    "display(Latex(ERROR_TYPE))"
   ]
  },
  {
   "cell_type": "code",
   "execution_count": null,
   "id": "d1c54093-b9a9-42f9-b220-7393208e5efd",
   "metadata": {},
   "outputs": [],
   "source": []
  }
 ],
 "metadata": {
  "kernelspec": {
   "display_name": "Python 3 (ipykernel)",
   "language": "python",
   "name": "python3"
  },
  "language_info": {
   "codemirror_mode": {
    "name": "ipython",
    "version": 3
   },
   "file_extension": ".py",
   "mimetype": "text/x-python",
   "name": "python",
   "nbconvert_exporter": "python",
   "pygments_lexer": "ipython3",
   "version": "3.11.4"
  }
 },
 "nbformat": 4,
 "nbformat_minor": 5
}