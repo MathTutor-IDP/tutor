{
 "cells": [
  {
   "cell_type": "code",
   "execution_count": 2,
   "id": "8f82b57a-3376-42c7-8baa-424616b73f4d",
   "metadata": {},
   "outputs": [
    {
     "name": "stdout",
     "output_type": "stream",
     "text": [
      "/Users/emekgozluklu/Desktop/IDP/Repositories/tutor\n"
     ]
    },
    {
     "name": "stderr",
     "output_type": "stream",
     "text": [
      "/Users/emekgozluklu/Desktop/IDP/Repositories/venv/lib/python3.11/site-packages/IPython/core/magics/osm.py:417: UserWarning: This is now an optional IPython functionality, setting dhist requires you to install the `pickleshare` library.\n",
      "  self.shell.db['dhist'] = compress_dhist(dhist)[-100:]\n"
     ]
    }
   ],
   "source": [
    "cd .."
   ]
  },
  {
   "cell_type": "code",
   "execution_count": 16,
   "id": "401d349a-bd7d-44ae-82b1-d73792ba616b",
   "metadata": {},
   "outputs": [],
   "source": [
    "from IPython.display import display, Math, Latex, clear_output\n",
    "from src.model.GPT import GPTModel, COSTS\n",
    "from src.datasets.MATH import MATH, MATHRecord\n",
    "import datetime\n",
    "import json\n",
    "import random\n",
    "import openai as oai\n",
    "from openai import OpenAI\n",
    "from copy import copy\n",
    "from tqdm import tqdm\n",
    "import itertools\n",
    "import pickle\n",
    "\n",
    "random.seed(52)\n",
    "\n",
    "# Prepare dataset\n",
    "dataset = MATH('data/math.jsonl')\n",
    "dataset.records = [rec for rec in dataset.records if len(rec.formatted_solution) < 750]  # to cut the token\n",
    "random.shuffle(dataset.records)\n",
    "\n",
    "# Prepare model\n",
    "gpt3 = GPTModel(model=\"gpt-3.5-turbo-0125\", temperature=0.7, max_tokens=500)\n",
    "gpt4 = GPTModel(model=\"gpt-4o\", temperature=1, max_tokens=500)\n",
    "\n",
    "gpt4.model = \"gpt-4o\"\n",
    "COSTS['gpt-4o'] = {'input': 5, 'output': 15}\n",
    "\n",
    "file_train = 'output/final_checked_fine_tuning.pkl'\n",
    "file_eval = 'output/evaluation_dataset/eval_v2_full.pkl'\n",
    "\n",
    "data_train = pickle.load(open(file_train, 'rb'))\n",
    "data_eval = pickle.load(open(file_eval, 'rb'))"
   ]
  },
  {
   "cell_type": "code",
   "execution_count": 22,
   "id": "2b065a9f-4fed-4a99-b3e8-ba4e208ca5b8",
   "metadata": {},
   "outputs": [],
   "source": [
    "def show_f(out):\n",
    "    display(Latex(r\"$\\textbf{Question \" +str(out['record'].id) + \": }$\"))\n",
    "    display(Latex(r\"$\\textbf{Question: }$\"))\n",
    "    display(Latex(out['record'].question))\n",
    "    display(Latex(r\"$\\textbf{Solution: }$\"))\n",
    "    display(Latex(out['record'].formatted_solution))\n",
    "    display(Latex(r\"$\\textbf{Error type: }$\" + out['error_type']))\n",
    "    display(Latex((r\"$\\textbf{ERROR EXPLANATION: }$\"  + out['error_explanation'])))\n",
    "    display(Latex((r\"$\\textbf{STUDENT'S SOLUTION: }$\"  + out['incorrect_solution'])))\n",
    "\n",
    "\n",
    "    display(Latex(\"================================================\"))\n",
    "\n",
    "    display(Latex(\"================================================\"))\n",
    "    display(Latex((r\"$\\textbf{Feedback 1: }$\"  + out['feedbacks']['zeroshot_default'])))\n",
    "    display(Latex((r\"$\\textbf{Feedback 2: }$\"  + out['feedbacks']['zeroshot_wo_explanation'])))\n",
    "    display(Latex((r\"$\\textbf{Feedback 3: }$\"  + out['feedbacks']['zeroshot_with_explanation'])))\n"
   ]
  },
  {
   "cell_type": "code",
   "execution_count": 23,
   "id": "56f4a523-9f56-42ad-a30d-cf15d8d6a66a",
   "metadata": {},
   "outputs": [],
   "source": [
    "feedback_prompt_zeroshot_default = '''Student made a mistake while attempting to solve this question. Considering the correct answer and student's solution, generate a feedback for the student.\n",
    "\n",
    "QUESTION: question_input\n",
    "CORRECT SOLUTION: correct_input\n",
    "STUDENT'S SOLUTION: student_input\n",
    "FEEDBACK: \n",
    "'''\n",
    "\n",
    "# ----\n",
    "feedback_prompt_concentration_zeroshot_wo_explanation = '''Student made a concentration error in this question. A concentration error causes from lapse in attention leads to an oversight or a  careless mistake in the calculations or steps. Considering the correct answer and student's solution, generate a feedback for the student.\n",
    "\n",
    "QUESTION: question_input\n",
    "CORRECT SOLUTION: correct_input\n",
    "STUDENT'S SOLUTION: student_input\n",
    "ERROR TYPE: CONCENTRATION\n",
    "FEEDBACK: \n",
    "'''\n",
    "\n",
    "feedback_prompt_logical_zeroshot_wo_explanation = '''Student made a logical error in this question. A logical error is caused from a mistake made in reasoning or in the application of a rule, even though the basic operations are performed correctly. Considering the correct answer and student's solution, generate a feedback for the student.\n",
    "\n",
    "QUESTION: question_input\n",
    "CORRECT SOLUTION: correct_input\n",
    "STUDENT'S SOLUTION: student_input\n",
    "ERROR TYPE: LOGICAL\n",
    "FEEDBACK: \n",
    "'''\n",
    "# ----\n",
    "feedback_prompt_concentration_zeroshot_with_explanation = '''Student made a concentration error in this question. A concentration error causes from lapse in attention leads to an oversight or a  careless mistake in the calculations or steps. Considering the correct answer and student's solution, generate a feedback for the student.\n",
    "\n",
    "QUESTION: question_input\n",
    "CORRECT SOLUTION: correct_input\n",
    "STUDENT'S SOLUTION: student_input\n",
    "ERROR TYPE: CONCENTRATION\n",
    "ERROR EXPLANATION: explanation_input\n",
    "FEEDBACK: \n",
    "'''\n",
    "\n",
    "feedback_prompt_logical_zeroshot_with_explanation = '''Student made a logical error in this question. A logical error is caused from a mistake made in reasoning or in the application of a rule, even though the basic operations are performed correctly. Considering the correct answer and student's solution, generate a feedback for the student.\n",
    "\n",
    "QUESTION: question_input\n",
    "CORRECT SOLUTION: correct_input\n",
    "STUDENT'S SOLUTION: student_input\n",
    "ERROR TYPE: LOGICAL\n",
    "ERROR EXPLANATION: explanation_input\n",
    "FEEDBACK: \n",
    "'''\n"
   ]
  },
  {
   "cell_type": "code",
   "execution_count": 24,
   "id": "4aae231a-b3af-4083-8cc6-c7a3b6ac1242",
   "metadata": {},
   "outputs": [],
   "source": [
    "# GENERATE FEEDBACKS\n",
    "\n",
    "feedbacks = {}\n",
    "feedbacks['zeroshot_default'] = []\n",
    "feedbacks['zeroshot_wo_explanation'] = []\n",
    "feedbacks['zeroshot_with_explanation'] = []"
   ]
  },
  {
   "cell_type": "code",
   "execution_count": 94,
   "id": "e881debf-31a5-452e-a876-c192501a09cc",
   "metadata": {},
   "outputs": [
    {
     "name": "stderr",
     "output_type": "stream",
     "text": [
      "100%|███████████████████████████████████████████████████████████████████████████████████████████████████████████████████████████████████████████████| 20/20 [00:39<00:00,  1.97s/it]\n"
     ]
    }
   ],
   "source": [
    "# run zeroshot_default\n",
    "\n",
    "for rec in tqdm(data_train[10:30]):\n",
    "\n",
    "    # update rec for feedbacks\n",
    "    rec['feedbacks'] = {}\n",
    "    \n",
    "    p = feedback_prompt_zeroshot_default\n",
    "    p = p.replace('question_input', rec['record'].question)\n",
    "    p = p.replace('correct_input', rec['record'].formatted_solution)\n",
    "    p = p.replace('student_input', rec['incorrect_solution'])\n",
    "    \n",
    "    out = gpt3.query(p)[0]\n",
    "    feedbacks['zeroshot_default'].append(out)\n",
    "    rec['feedbacks']['zeroshot_default'] = out\n"
   ]
  },
  {
   "cell_type": "code",
   "execution_count": 95,
   "id": "83a22df4-97fd-464c-8a9f-2508aa8d1d05",
   "metadata": {},
   "outputs": [
    {
     "name": "stderr",
     "output_type": "stream",
     "text": [
      "100%|███████████████████████████████████████████████████████████████████████████████████████████████████████████████████████████████████████████████| 20/20 [00:38<00:00,  1.93s/it]\n"
     ]
    }
   ],
   "source": [
    "# run zeroshot_wo_explanation\n",
    "\n",
    "for rec in tqdm(data_train[10:30]):\n",
    "\n",
    "    if rec['error_type'] == 'CONCENTRATION':\n",
    "        p = feedback_prompt_concentration_zeroshot_wo_explanation\n",
    "    elif rec['error_type'] == 'LOGICAL':\n",
    "        p = feedback_prompt_logical_zeroshot_wo_explanation\n",
    "    else:\n",
    "        p = feedback_prompt_zeroshot_default\n",
    "        \n",
    "    p = p.replace('question_input', rec['record'].question)\n",
    "    p = p.replace('correct_input', rec['record'].formatted_solution)\n",
    "    p = p.replace('student_input', rec['incorrect_solution'])\n",
    "\n",
    "    \n",
    "    out = gpt3.query(p)[0]\n",
    "    feedbacks['zeroshot_wo_explanation'].append(out)\n",
    "    rec['feedbacks']['zeroshot_wo_explanation'] = out"
   ]
  },
  {
   "cell_type": "code",
   "execution_count": 96,
   "id": "3550960c-d691-4ff5-af16-e02cd746365a",
   "metadata": {},
   "outputs": [
    {
     "name": "stderr",
     "output_type": "stream",
     "text": [
      "100%|███████████████████████████████████████████████████████████████████████████████████████████████████████████████████████████████████████████████| 20/20 [00:36<00:00,  1.81s/it]\n"
     ]
    }
   ],
   "source": [
    "# run zeroshot_with_explanation\n",
    "\n",
    "for rec in tqdm(data_train[10:30]):\n",
    "\n",
    "    if rec['error_type'] == 'CONCENTRATION':\n",
    "        p = feedback_prompt_concentration_zeroshot_with_explanation\n",
    "    elif rec['error_type'] == 'LOGICAL':\n",
    "        p = feedback_prompt_logical_zeroshot_with_explanation\n",
    "    else:\n",
    "        p = feedback_prompt_zeroshot_default\n",
    "        \n",
    "    p = p.replace('question_input', rec['record'].question)\n",
    "    p = p.replace('correct_input', rec['record'].formatted_solution)\n",
    "    p = p.replace('student_input', rec['incorrect_solution'])\n",
    "    p = p.replace('explanation_input', rec['error_explanation'])\n",
    "    \n",
    "    out = gpt3.query(p)[0]\n",
    "    feedbacks['zeroshot_with_explanation'].append(out)\n",
    "    rec['feedbacks']['zeroshot_with_explanation'] = out"
   ]
  },
  {
   "cell_type": "code",
   "execution_count": 28,
   "id": "acecc1b7-3e37-4768-b20e-9a66b02295c0",
   "metadata": {},
   "outputs": [
    {
     "data": {
      "text/latex": [
       "$\\textbf{Question 1780: }$"
      ],
      "text/plain": [
       "<IPython.core.display.Latex object>"
      ]
     },
     "metadata": {},
     "output_type": "display_data"
    },
    {
     "data": {
      "text/latex": [
       "$\\textbf{Question: }$"
      ],
      "text/plain": [
       "<IPython.core.display.Latex object>"
      ]
     },
     "metadata": {},
     "output_type": "display_data"
    },
    {
     "data": {
      "text/latex": [
       "Determine the number of ways to arrange the letters of the word MADAM."
      ],
      "text/plain": [
       "<IPython.core.display.Latex object>"
      ]
     },
     "metadata": {},
     "output_type": "display_data"
    },
    {
     "data": {
      "text/latex": [
       "$\\textbf{Solution: }$"
      ],
      "text/plain": [
       "<IPython.core.display.Latex object>"
      ]
     },
     "metadata": {},
     "output_type": "display_data"
    },
    {
     "data": {
      "text/latex": [
       "First we count the arrangements if all the letters are unique, which is $5!$. Then since the M's and the A's are not unique, we divide by $2!$ twice for the arrangements of M's and the arrangements of A's, for an answer of $\\dfrac{5!}{2! \\times 2!} = \\boxed{30}$."
      ],
      "text/plain": [
       "<IPython.core.display.Latex object>"
      ]
     },
     "metadata": {},
     "output_type": "display_data"
    },
    {
     "data": {
      "text/latex": [
       "$\\textbf{Error type: }$CONCENTRATION"
      ],
      "text/plain": [
       "<IPython.core.display.Latex object>"
      ]
     },
     "metadata": {},
     "output_type": "display_data"
    },
    {
     "data": {
      "text/latex": [
       "$\\textbf{ERROR EXPLANATION: }$The student may have counted the total letters incorrectly. The student should have counted 5 instead of 4."
      ],
      "text/plain": [
       "<IPython.core.display.Latex object>"
      ]
     },
     "metadata": {},
     "output_type": "display_data"
    },
    {
     "data": {
      "text/latex": [
       "$\\textbf{STUDENT'S SOLUTION: }$First we count the arrangements if all the letters are unique, which is $4!$. Then since the M's and the A's are not unique, we divide by $2!$ twice for the arrangements of M's and the arrangements of A's, for an answer of $\\dfrac{4!}{2! \\times 2!} = \\boxed{12}$."
      ],
      "text/plain": [
       "<IPython.core.display.Latex object>"
      ]
     },
     "metadata": {},
     "output_type": "display_data"
    },
    {
     "data": {
      "text/latex": [
       "================================================"
      ],
      "text/plain": [
       "<IPython.core.display.Latex object>"
      ]
     },
     "metadata": {},
     "output_type": "display_data"
    },
    {
     "data": {
      "text/latex": [
       "================================================"
      ],
      "text/plain": [
       "<IPython.core.display.Latex object>"
      ]
     },
     "metadata": {},
     "output_type": "display_data"
    },
    {
     "data": {
      "text/latex": [
       "$\\textbf{Feedback 1: }$Good attempt, but it seems like you made a mistake in counting the initial number of arrangements. The word MADAM has 5 unique letters, not 4, so the correct number of arrangements if all the letters are unique is $5!$, not $4!$. Therefore, the correct answer should be $\\dfrac{5!}{2! \\times 2!} = 30$, not 12. Remember to carefully count the total number of arrangements in the beginning before considering the repetitions of letters. Keep up the good work!"
      ],
      "text/plain": [
       "<IPython.core.display.Latex object>"
      ]
     },
     "metadata": {},
     "output_type": "display_data"
    },
    {
     "data": {
      "text/latex": [
       "$\\textbf{Feedback 2: }$Great job on recognizing that the M's and the A's are not unique in the word MADAM and adjusting your calculation accordingly. However, it seems like there was a lapse in attention when counting the total number of arrangements. Remember that the word MADAM has 5 letters, not 4. Therefore, the correct total number of arrangements should be $5!$, not $4!$. Make sure to pay close attention to the details in the question to avoid making calculation errors in the future. Keep up the good work!"
      ],
      "text/plain": [
       "<IPython.core.display.Latex object>"
      ]
     },
     "metadata": {},
     "output_type": "display_data"
    },
    {
     "data": {
      "text/latex": [
       "$\\textbf{Feedback 3: }$Good effort on solving the question, but it seems like there was a concentration error in counting the total number of letters in the word MADAM. Remember, there are 5 letters in the word MADAM, not 4. Therefore, the correct total number of arrangements should be calculated using $5!$, not $4!$. Keep practicing and pay close attention to all the details in the question."
      ],
      "text/plain": [
       "<IPython.core.display.Latex object>"
      ]
     },
     "metadata": {},
     "output_type": "display_data"
    },
    {
     "name": "stdin",
     "output_type": "stream",
     "text": [
      "best? :  2\n"
     ]
    },
    {
     "data": {
      "text/latex": [
       "$\\textbf{Question 1751: }$"
      ],
      "text/plain": [
       "<IPython.core.display.Latex object>"
      ]
     },
     "metadata": {},
     "output_type": "display_data"
    },
    {
     "data": {
      "text/latex": [
       "$\\textbf{Question: }$"
      ],
      "text/plain": [
       "<IPython.core.display.Latex object>"
      ]
     },
     "metadata": {},
     "output_type": "display_data"
    },
    {
     "data": {
      "text/latex": [
       "If the odds for pulling a prize out of the box are $3:4$, what is the probability of not pulling the prize out of the box? Express your answer as a common fraction."
      ],
      "text/plain": [
       "<IPython.core.display.Latex object>"
      ]
     },
     "metadata": {},
     "output_type": "display_data"
    },
    {
     "data": {
      "text/latex": [
       "$\\textbf{Solution: }$"
      ],
      "text/plain": [
       "<IPython.core.display.Latex object>"
      ]
     },
     "metadata": {},
     "output_type": "display_data"
    },
    {
     "data": {
      "text/latex": [
       "If the odds for pulling a prize out of the box are $3:4$, that means that 3 out of 7 times will result in a prize, while 4 out of 7 times will not. So the probability of not pulling the prize out of the box is $\\boxed{\\frac{4}{7}}$."
      ],
      "text/plain": [
       "<IPython.core.display.Latex object>"
      ]
     },
     "metadata": {},
     "output_type": "display_data"
    },
    {
     "data": {
      "text/latex": [
       "$\\textbf{Error type: }$CONCENTRATION"
      ],
      "text/plain": [
       "<IPython.core.display.Latex object>"
      ]
     },
     "metadata": {},
     "output_type": "display_data"
    },
    {
     "data": {
      "text/latex": [
       "$\\textbf{ERROR EXPLANATION: }$Student may mistakenly calculate the probability of pulling the prize out of the box instead of the probability of not pulling the prize out."
      ],
      "text/plain": [
       "<IPython.core.display.Latex object>"
      ]
     },
     "metadata": {},
     "output_type": "display_data"
    },
    {
     "data": {
      "text/latex": [
       "$\\textbf{STUDENT'S SOLUTION: }$If the odds for pulling a prize out of the box are $3:4$, that means that 3 out of 7 times will result in a prize, while 4 out of 7 times will not. So the probability of not pulling the prize out of the box is $\\boxed{\\frac{3}{7}}$."
      ],
      "text/plain": [
       "<IPython.core.display.Latex object>"
      ]
     },
     "metadata": {},
     "output_type": "display_data"
    },
    {
     "data": {
      "text/latex": [
       "================================================"
      ],
      "text/plain": [
       "<IPython.core.display.Latex object>"
      ]
     },
     "metadata": {},
     "output_type": "display_data"
    },
    {
     "data": {
      "text/latex": [
       "================================================"
      ],
      "text/plain": [
       "<IPython.core.display.Latex object>"
      ]
     },
     "metadata": {},
     "output_type": "display_data"
    },
    {
     "data": {
      "text/latex": [
       "$\\textbf{Feedback 1: }$Good effort in understanding the concept of odds and probability. However, it seems like there was a mistake in the final calculation. Remember that the probability of not pulling a prize out of the box is the complement of the probability of pulling a prize out of the box. In this case, since 3 out of 7 times result in a prize, the probability of not pulling a prize out of the box should be $\\frac{4}{7}$, not $\\frac{3}{7}$. Keep practicing and pay attention to the details in your calculations."
      ],
      "text/plain": [
       "<IPython.core.display.Latex object>"
      ]
     },
     "metadata": {},
     "output_type": "display_data"
    },
    {
     "data": {
      "text/latex": [
       "$\\textbf{Feedback 2: }$Great job on understanding how odds work! However, it seems like you made a concentration error in your calculation. Remember that the probability of not pulling the prize out of the box is the number of times it will not happen (4) out of the total possible outcomes (7). Therefore, the correct probability of not pulling the prize out of the box is $\\frac{4}{7}$. Keep practicing and pay close attention to your calculations to avoid making similar errors in the future."
      ],
      "text/plain": [
       "<IPython.core.display.Latex object>"
      ]
     },
     "metadata": {},
     "output_type": "display_data"
    },
    {
     "data": {
      "text/latex": [
       "$\\textbf{Feedback 3: }$Good effort on working through the problem. However, there seems to be a small error in your solution. Remember that we are looking for the probability of not pulling the prize out of the box, which means we need to consider the 4 out of 7 times that will not result in a prize. So the correct probability of not pulling the prize out of the box is $\\frac{4}{7}$, not $\\frac{3}{7}$. Keep practicing and pay close attention to the details in the question to avoid making concentration errors in the future."
      ],
      "text/plain": [
       "<IPython.core.display.Latex object>"
      ]
     },
     "metadata": {},
     "output_type": "display_data"
    },
    {
     "name": "stdin",
     "output_type": "stream",
     "text": [
      "best? :  2\n"
     ]
    },
    {
     "data": {
      "text/latex": [
       "$\\textbf{Question 1755: }$"
      ],
      "text/plain": [
       "<IPython.core.display.Latex object>"
      ]
     },
     "metadata": {},
     "output_type": "display_data"
    },
    {
     "data": {
      "text/latex": [
       "$\\textbf{Question: }$"
      ],
      "text/plain": [
       "<IPython.core.display.Latex object>"
      ]
     },
     "metadata": {},
     "output_type": "display_data"
    },
    {
     "data": {
      "text/latex": [
       "Three cards are dealt at random from a standard deck of 52 cards.  What is the probability that the first card is a Jack, the second card is a Queen, and the third card is a King? Assuming the dealing is done without replacement."
      ],
      "text/plain": [
       "<IPython.core.display.Latex object>"
      ]
     },
     "metadata": {},
     "output_type": "display_data"
    },
    {
     "data": {
      "text/latex": [
       "$\\textbf{Solution: }$"
      ],
      "text/plain": [
       "<IPython.core.display.Latex object>"
      ]
     },
     "metadata": {},
     "output_type": "display_data"
    },
    {
     "data": {
      "text/latex": [
       "The probability is $\\dfrac{4}{52} \\times \\dfrac{4}{51} \\times \\dfrac{4}{50} = \\boxed{\\frac{8}{16575}}$."
      ],
      "text/plain": [
       "<IPython.core.display.Latex object>"
      ]
     },
     "metadata": {},
     "output_type": "display_data"
    },
    {
     "data": {
      "text/latex": [
       "$\\textbf{Error type: }$CONCENTRATION"
      ],
      "text/plain": [
       "<IPython.core.display.Latex object>"
      ]
     },
     "metadata": {},
     "output_type": "display_data"
    },
    {
     "data": {
      "text/latex": [
       "$\\textbf{ERROR EXPLANATION: }$The student may calculate final equation incorrectly. This can due to a miscalculation during the probability calculation."
      ],
      "text/plain": [
       "<IPython.core.display.Latex object>"
      ]
     },
     "metadata": {},
     "output_type": "display_data"
    },
    {
     "data": {
      "text/latex": [
       "$\\textbf{STUDENT'S SOLUTION: }$The probability that the first card is a Jack is $\\frac{4}{52}$, that the second card is a Queen is $\\frac{4}{51}$, and that the third card is a King is $\\frac{4}{50}$. \n",
       "Multiplying these probabilities together gives $\\frac{4}{52} \\times \\frac{4}{51} \\times \\frac{4}{50} = \\boxed{\\frac{64}{132600}}$."
      ],
      "text/plain": [
       "<IPython.core.display.Latex object>"
      ]
     },
     "metadata": {},
     "output_type": "display_data"
    },
    {
     "data": {
      "text/latex": [
       "================================================"
      ],
      "text/plain": [
       "<IPython.core.display.Latex object>"
      ]
     },
     "metadata": {},
     "output_type": "display_data"
    },
    {
     "data": {
      "text/latex": [
       "================================================"
      ],
      "text/plain": [
       "<IPython.core.display.Latex object>"
      ]
     },
     "metadata": {},
     "output_type": "display_data"
    },
    {
     "data": {
      "text/latex": [
       "$\\textbf{Feedback 1: }$Your solution is almost correct, but you made a mistake in your final calculation. When you multiply the probabilities together, you should get $\\frac{4}{52} \\times \\frac{4}{51} \\times \\frac{4}{50} = \\frac{64}{132600}$. However, this can be simplified to $\\frac{8}{16575}$, so the correct answer is actually $\\boxed{\\frac{8}{16575}}$. Make sure to always simplify your fractions to get the final answer."
      ],
      "text/plain": [
       "<IPython.core.display.Latex object>"
      ]
     },
     "metadata": {},
     "output_type": "display_data"
    },
    {
     "data": {
      "text/latex": [
       "$\\textbf{Feedback 2: }$Your calculations for the probability of drawing a Jack, a Queen, and a King in succession were correct, but it seems like there was a concentration error in simplifying the fractions. Make sure to pay close attention when multiplying fractions and reducing the final answer. The correct probability is $\\frac{8}{16575}$, not $\\frac{64}{132600}$. Keep up the good work, but double-check your simplifications to avoid errors like this in the future."
      ],
      "text/plain": [
       "<IPython.core.display.Latex object>"
      ]
     },
     "metadata": {},
     "output_type": "display_data"
    },
    {
     "data": {
      "text/latex": [
       "$\\textbf{Feedback 3: }$Good effort in breaking down the probabilities for each step correctly. However, there seems to be a miscalculation in the final multiplication of the probabilities. Make sure to double-check your calculations to ensure accuracy. The correct probability for the event is $\\frac{8}{16575}$, not $\\frac{64}{132600}$. Keep practicing and pay close attention to detail to avoid concentration errors in the future."
      ],
      "text/plain": [
       "<IPython.core.display.Latex object>"
      ]
     },
     "metadata": {},
     "output_type": "display_data"
    },
    {
     "name": "stdin",
     "output_type": "stream",
     "text": [
      "best? :  2\n"
     ]
    },
    {
     "data": {
      "text/latex": [
       "$\\textbf{Question 1757: }$"
      ],
      "text/plain": [
       "<IPython.core.display.Latex object>"
      ]
     },
     "metadata": {},
     "output_type": "display_data"
    },
    {
     "data": {
      "text/latex": [
       "$\\textbf{Question: }$"
      ],
      "text/plain": [
       "<IPython.core.display.Latex object>"
      ]
     },
     "metadata": {},
     "output_type": "display_data"
    },
    {
     "data": {
      "text/latex": [
       "Two fair 6-sided dice are rolled.  What is the probability at least one of the dice shows a 1?"
      ],
      "text/plain": [
       "<IPython.core.display.Latex object>"
      ]
     },
     "metadata": {},
     "output_type": "display_data"
    },
    {
     "data": {
      "text/latex": [
       "$\\textbf{Solution: }$"
      ],
      "text/plain": [
       "<IPython.core.display.Latex object>"
      ]
     },
     "metadata": {},
     "output_type": "display_data"
    },
    {
     "data": {
      "text/latex": [
       "There are 5 ways in which the first roll is not 1, and 5 ways in which the second roll is not 1, so there are $5 \\times 5 = 25$ ways in which neither die shows 1.  Therefore there are $36-25=11$ ways in which one or both dice show 1.  So the probability of this is $\\boxed{\\dfrac{11}{36}}$."
      ],
      "text/plain": [
       "<IPython.core.display.Latex object>"
      ]
     },
     "metadata": {},
     "output_type": "display_data"
    },
    {
     "data": {
      "text/latex": [
       "$\\textbf{Error type: }$CONCENTRATION"
      ],
      "text/plain": [
       "<IPython.core.display.Latex object>"
      ]
     },
     "metadata": {},
     "output_type": "display_data"
    },
    {
     "data": {
      "text/latex": [
       "$\\textbf{ERROR EXPLANATION: }$The student may have calculated the subtraction incorrectly. The ways in which one or both dice show 1 is calculated wrong."
      ],
      "text/plain": [
       "<IPython.core.display.Latex object>"
      ]
     },
     "metadata": {},
     "output_type": "display_data"
    },
    {
     "data": {
      "text/latex": [
       "$\\textbf{STUDENT'S SOLUTION: }$There are 5 ways in which the first roll is not 1, and 5 ways in which the second roll is not 1, so there are $5 \\times 5 = 25$ ways in which neither die shows 1. Therefore there are $36-25=\\boxed{10}$ ways in which one or both dice show 1. So the probability of this is $\\boxed{\\dfrac{10}{36}}$."
      ],
      "text/plain": [
       "<IPython.core.display.Latex object>"
      ]
     },
     "metadata": {},
     "output_type": "display_data"
    },
    {
     "data": {
      "text/latex": [
       "================================================"
      ],
      "text/plain": [
       "<IPython.core.display.Latex object>"
      ]
     },
     "metadata": {},
     "output_type": "display_data"
    },
    {
     "data": {
      "text/latex": [
       "================================================"
      ],
      "text/plain": [
       "<IPython.core.display.Latex object>"
      ]
     },
     "metadata": {},
     "output_type": "display_data"
    },
    {
     "data": {
      "text/latex": [
       "$\\textbf{Feedback 1: }$Good job on correctly calculating the number of ways in which neither die shows a 1. However, the mistake occurred when determining the number of ways in which one or both dice show a 1. Remember that to find the number of ways at least one die shows a 1, you need to subtract the number of ways in which neither die shows a 1 from the total number of outcomes. Therefore, the correct number of ways in which one or both dice show a 1 is 11, not 10. This means that the correct probability is 11/36, not 10/36. Keep up the good work and pay close attention to the details in your calculations."
      ],
      "text/plain": [
       "<IPython.core.display.Latex object>"
      ]
     },
     "metadata": {},
     "output_type": "display_data"
    },
    {
     "data": {
      "text/latex": [
       "$\\textbf{Feedback 2: }$Good effort in setting up the calculation for the number of ways in which neither die shows a 1. However, you made a concentration error in subtracting 25 from 36. The correct answer is 11, not 10. Make sure to double-check your calculations to avoid simple mistakes like this in the future. Keep up the good work!"
      ],
      "text/plain": [
       "<IPython.core.display.Latex object>"
      ]
     },
     "metadata": {},
     "output_type": "display_data"
    },
    {
     "data": {
      "text/latex": [
       "$\\textbf{Feedback 3: }$Great job on correctly calculating the number of ways in which neither die shows a 1, but be careful with your subtraction. You mistakenly subtracted 25 from 36 and got 10, when the correct answer is 11. Therefore, the probability of at least one die showing a 1 is $\\frac{11}{36}$, not $\\frac{10}{36}$. Make sure to double check your calculations to avoid these types of errors in the future. Keep up the good work!"
      ],
      "text/plain": [
       "<IPython.core.display.Latex object>"
      ]
     },
     "metadata": {},
     "output_type": "display_data"
    },
    {
     "name": "stderr",
     "output_type": "stream",
     "text": [
      "\n",
      "KeyboardInterrupt\n",
      "\n"
     ]
    }
   ],
   "source": [
    "selection = []\n",
    "for rec in (data_train[:10]):\n",
    "    show_f(rec)\n",
    "    selection.append(input('best? : '))\n",
    "    \n"
   ]
  },
  {
   "cell_type": "code",
   "execution_count": 99,
   "id": "79935cdd-b5d2-432a-8433-171846ae36b6",
   "metadata": {},
   "outputs": [
    {
     "data": {
      "text/latex": [
       "$\\textbf{Question 4684: }$"
      ],
      "text/plain": [
       "<IPython.core.display.Latex object>"
      ]
     },
     "metadata": {},
     "output_type": "display_data"
    },
    {
     "data": {
      "text/latex": [
       "$\\textbf{Question: }$"
      ],
      "text/plain": [
       "<IPython.core.display.Latex object>"
      ]
     },
     "metadata": {},
     "output_type": "display_data"
    },
    {
     "data": {
      "text/latex": [
       "What is the base-ten number represented by the base-eight number 31?"
      ],
      "text/plain": [
       "<IPython.core.display.Latex object>"
      ]
     },
     "metadata": {},
     "output_type": "display_data"
    },
    {
     "data": {
      "text/latex": [
       "$\\textbf{Solution: }$"
      ],
      "text/plain": [
       "<IPython.core.display.Latex object>"
      ]
     },
     "metadata": {},
     "output_type": "display_data"
    },
    {
     "data": {
      "text/latex": [
       "$31_8=3\\cdot8^1+1\\cdot8^0=\\boxed{25}$."
      ],
      "text/plain": [
       "<IPython.core.display.Latex object>"
      ]
     },
     "metadata": {},
     "output_type": "display_data"
    },
    {
     "data": {
      "text/latex": [
       "$\\textbf{Error type: }$LOGICAL"
      ],
      "text/plain": [
       "<IPython.core.display.Latex object>"
      ]
     },
     "metadata": {},
     "output_type": "display_data"
    },
    {
     "data": {
      "text/latex": [
       "$\\textbf{ERROR EXPLANATION: }$The student may use base transformation formula incorrectly. This can lead to a wrong answer."
      ],
      "text/plain": [
       "<IPython.core.display.Latex object>"
      ]
     },
     "metadata": {},
     "output_type": "display_data"
    },
    {
     "data": {
      "text/latex": [
       "$\\textbf{STUDENT'S SOLUTION: }$$31_8=3\\cdot8^2+1\\cdot8^1=192+8=\\boxed{200}$."
      ],
      "text/plain": [
       "<IPython.core.display.Latex object>"
      ]
     },
     "metadata": {},
     "output_type": "display_data"
    },
    {
     "data": {
      "text/latex": [
       "================================================"
      ],
      "text/plain": [
       "<IPython.core.display.Latex object>"
      ]
     },
     "metadata": {},
     "output_type": "display_data"
    },
    {
     "data": {
      "text/latex": [
       "================================================"
      ],
      "text/plain": [
       "<IPython.core.display.Latex object>"
      ]
     },
     "metadata": {},
     "output_type": "display_data"
    },
    {
     "data": {
      "text/latex": [
       "$\\textbf{Feedback 1: }$Good effort in attempting to convert the base-eight number to base-ten. However, it seems like there was a mistake in your calculation. Remember that in base-eight, the place values increase by powers of 8, not by powers of 10. So, the correct calculation should be $31_8=3\\cdot8^1+1\\cdot8^0=3\\cdot8+1\\cdot1=24+1=\\boxed{25}$. Keep practicing converting numbers between different bases to avoid similar mistakes in the future."
      ],
      "text/plain": [
       "<IPython.core.display.Latex object>"
      ]
     },
     "metadata": {},
     "output_type": "display_data"
    },
    {
     "data": {
      "text/latex": [
       "$\\textbf{Feedback 2: }$While you correctly converted the base-eight number 31 to base-ten in your solution, you made a mistake in your calculations. Remember that the value of each digit in a base-eight number is multiplied by the corresponding power of 8. Therefore, the correct calculation should be $3\\cdot8^1+1\\cdot8^0=3\\cdot8+1\\cdot1=24+1=\\boxed{25}$. Make sure to double check your arithmetic to avoid making similar mistakes in the future."
      ],
      "text/plain": [
       "<IPython.core.display.Latex object>"
      ]
     },
     "metadata": {},
     "output_type": "display_data"
    },
    {
     "data": {
      "text/latex": [
       "$\\textbf{Feedback 3: }$Your mistake comes from incorrectly applying the base transformation formula. When converting a base-eight number to a base-ten number, you should multiply each digit by the corresponding power of eight, starting from the rightmost digit being multiplied by $8^0$. In this case, the correct calculation should be $3\\cdot8^1+1\\cdot8^0$ which equals 25, not 200. Make sure to double check your calculations and ensure you are applying the formula correctly in the future."
      ],
      "text/plain": [
       "<IPython.core.display.Latex object>"
      ]
     },
     "metadata": {},
     "output_type": "display_data"
    }
   ],
   "source": [
    "show_f(data_train[13])"
   ]
  },
  {
   "cell_type": "code",
   "execution_count": 63,
   "id": "a751c57f-c73e-4ad7-a224-eca1ecdd9aec",
   "metadata": {},
   "outputs": [],
   "source": [
    "data_train[13]['incorrect_solution'] = \"$31_8=3\\\\cdot8^2+1\\\\cdot8^1=192+8=\\\\boxed{200}$.\"\n",
    "\n"
   ]
  },
  {
   "cell_type": "code",
   "execution_count": 93,
   "id": "416f4a50-6b60-4262-8817-ec6da3d16b8e",
   "metadata": {},
   "outputs": [
    {
     "data": {
      "text/latex": [
       "$\\textbf{Question 1780: }$"
      ],
      "text/plain": [
       "<IPython.core.display.Latex object>"
      ]
     },
     "metadata": {},
     "output_type": "display_data"
    },
    {
     "data": {
      "text/latex": [
       "$\\textbf{Question: }$"
      ],
      "text/plain": [
       "<IPython.core.display.Latex object>"
      ]
     },
     "metadata": {},
     "output_type": "display_data"
    },
    {
     "data": {
      "text/latex": [
       "Determine the number of ways to arrange the letters of the word MADAM."
      ],
      "text/plain": [
       "<IPython.core.display.Latex object>"
      ]
     },
     "metadata": {},
     "output_type": "display_data"
    },
    {
     "data": {
      "text/latex": [
       "$\\textbf{Solution: }$"
      ],
      "text/plain": [
       "<IPython.core.display.Latex object>"
      ]
     },
     "metadata": {},
     "output_type": "display_data"
    },
    {
     "data": {
      "text/latex": [
       "First we count the arrangements if all the letters are unique, which is $5!$. Then since the M's and the A's are not unique, we divide by $2!$ twice for the arrangements of M's and the arrangements of A's, for an answer of $\\dfrac{5!}{2! \\times 2!} = \\boxed{30}$."
      ],
      "text/plain": [
       "<IPython.core.display.Latex object>"
      ]
     },
     "metadata": {},
     "output_type": "display_data"
    },
    {
     "data": {
      "text/latex": [
       "$\\textbf{Error type: }$CONCENTRATION"
      ],
      "text/plain": [
       "<IPython.core.display.Latex object>"
      ]
     },
     "metadata": {},
     "output_type": "display_data"
    },
    {
     "data": {
      "text/latex": [
       "$\\textbf{ERROR EXPLANATION: }$The student may have counted the total letters incorrectly. The student should have counted 5 instead of 4."
      ],
      "text/plain": [
       "<IPython.core.display.Latex object>"
      ]
     },
     "metadata": {},
     "output_type": "display_data"
    },
    {
     "data": {
      "text/latex": [
       "$\\textbf{STUDENT'S SOLUTION: }$First we count the arrangements if all the letters are unique, which is $4!$. Then since the M's and the A's are not unique, we divide by $2!$ twice for the arrangements of M's and the arrangements of A's, for an answer of $\\dfrac{4!}{2! \\times 2!} = \\boxed{12}$."
      ],
      "text/plain": [
       "<IPython.core.display.Latex object>"
      ]
     },
     "metadata": {},
     "output_type": "display_data"
    },
    {
     "data": {
      "text/latex": [
       "================================================"
      ],
      "text/plain": [
       "<IPython.core.display.Latex object>"
      ]
     },
     "metadata": {},
     "output_type": "display_data"
    },
    {
     "data": {
      "text/latex": [
       "================================================"
      ],
      "text/plain": [
       "<IPython.core.display.Latex object>"
      ]
     },
     "metadata": {},
     "output_type": "display_data"
    },
    {
     "data": {
      "text/latex": [
       "$\\textbf{Feedback 1: }$Good attempt, but it seems like you made a mistake in counting the initial number of arrangements. The word MADAM has 5 unique letters, not 4, so the correct number of arrangements if all the letters are unique is $5!$, not $4!$. Therefore, the correct answer should be $\\dfrac{5!}{2! \\times 2!} = 30$, not 12. Remember to carefully count the total number of arrangements in the beginning before considering the repetitions of letters. Keep up the good work!"
      ],
      "text/plain": [
       "<IPython.core.display.Latex object>"
      ]
     },
     "metadata": {},
     "output_type": "display_data"
    },
    {
     "data": {
      "text/latex": [
       "$\\textbf{Feedback 2: }$Great job on recognizing that the M's and the A's are not unique in the word MADAM and adjusting your calculation accordingly. However, it seems like there was a lapse in attention when counting the total number of arrangements. Remember that the word MADAM has 5 letters, not 4. Therefore, the correct total number of arrangements should be $5!$, not $4!$. Make sure to pay close attention to the details in the question to avoid making calculation errors in the future. Keep up the good work!"
      ],
      "text/plain": [
       "<IPython.core.display.Latex object>"
      ]
     },
     "metadata": {},
     "output_type": "display_data"
    },
    {
     "data": {
      "text/latex": [
       "$\\textbf{Feedback 3: }$Good effort on solving the question, but it seems like there was a concentration error in counting the total number of letters in the word MADAM. Remember, there are 5 letters in the word MADAM, not 4. Therefore, the correct total number of arrangements should be calculated using $5!$, not $4!$. Keep practicing and pay close attention to all the details in the question."
      ],
      "text/plain": [
       "<IPython.core.display.Latex object>"
      ]
     },
     "metadata": {},
     "output_type": "display_data"
    }
   ],
   "source": [
    "show_f(data_train[])"
   ]
  },
  {
   "cell_type": "code",
   "execution_count": 66,
   "id": "8f1c4a8b-57a3-4e6a-aa8b-9f8762469824",
   "metadata": {},
   "outputs": [
    {
     "data": {
      "text/latex": [
       "$\\textbf{Question: }$"
      ],
      "text/plain": [
       "<IPython.core.display.Latex object>"
      ]
     },
     "metadata": {},
     "output_type": "display_data"
    },
    {
     "data": {
      "text/latex": [
       "Determine the number of ways to arrange the letters of the word MADAM."
      ],
      "text/plain": [
       "<IPython.core.display.Latex object>"
      ]
     },
     "metadata": {},
     "output_type": "display_data"
    },
    {
     "data": {
      "text/latex": [
       "$\\textbf{Solution: }$"
      ],
      "text/plain": [
       "<IPython.core.display.Latex object>"
      ]
     },
     "metadata": {},
     "output_type": "display_data"
    },
    {
     "data": {
      "text/latex": [
       "First we count the arrangements if all the letters are unique, which is $5!$. Then since the M's and the A's are not unique, we divide by $2!$ twice for the arrangements of M's and the arrangements of A's, for an answer of $\\dfrac{5!}{2! \\times 2!} = \\boxed{30}$."
      ],
      "text/plain": [
       "<IPython.core.display.Latex object>"
      ]
     },
     "metadata": {},
     "output_type": "display_data"
    },
    {
     "data": {
      "text/latex": [
       "$\\textbf{STUDENT'S SOLUTION: }$"
      ],
      "text/plain": [
       "<IPython.core.display.Latex object>"
      ]
     },
     "metadata": {},
     "output_type": "display_data"
    },
    {
     "data": {
      "text/latex": [
       "First we count the arrangements if all the letters are unique, which is $4!$. Then since the M's and the A's are not unique, we divide by $2!$ twice for the arrangements of M's and the arrangements of A's, for an answer of $\\dfrac{4!}{2! \\times 2!} = \\boxed{12}$."
      ],
      "text/plain": [
       "<IPython.core.display.Latex object>"
      ]
     },
     "metadata": {},
     "output_type": "display_data"
    },
    {
     "data": {
      "text/latex": [
       "$\\textbf{Error type: }$CONCENTRATION"
      ],
      "text/plain": [
       "<IPython.core.display.Latex object>"
      ]
     },
     "metadata": {},
     "output_type": "display_data"
    }
   ],
   "source": [
    "out = data_train[0]\n",
    "display(Latex(r\"$\\textbf{Question: }$\"))\n",
    "display(Latex(out['record'].question))\n",
    "display(Latex(r\"$\\textbf{Solution: }$\"))\n",
    "display(Latex(out['record'].formatted_solution))\n",
    "display(Latex((r\"$\\textbf{STUDENT'S SOLUTION: }$\")))\n",
    "display(Latex(out['incorrect_solution']))\n",
    "display(Latex(r\"$\\textbf{Error type: }$\" + out['error_type']))\n",
    "\n"
   ]
  },
  {
   "cell_type": "code",
   "execution_count": 91,
   "id": "ca9eaa43-b9e6-4c92-8cbb-1e6c595d83ef",
   "metadata": {},
   "outputs": [
    {
     "data": {
      "text/latex": [
       "$\\textbf{Question: }$"
      ],
      "text/plain": [
       "<IPython.core.display.Latex object>"
      ]
     },
     "metadata": {},
     "output_type": "display_data"
    },
    {
     "data": {
      "text/latex": [
       "If the odds for pulling a prize out of the box are $3:4$, what is the probability of not pulling the prize out of the box? Express your answer as a common fraction."
      ],
      "text/plain": [
       "<IPython.core.display.Latex object>"
      ]
     },
     "metadata": {},
     "output_type": "display_data"
    },
    {
     "data": {
      "text/latex": [
       "$\\textbf{Solution: }$"
      ],
      "text/plain": [
       "<IPython.core.display.Latex object>"
      ]
     },
     "metadata": {},
     "output_type": "display_data"
    },
    {
     "data": {
      "text/latex": [
       "If the odds for pulling a prize out of the box are $3:4$, that means that 3 out of 7 times will result in a prize, while 4 out of 7 times will not. So the probability of not pulling the prize out of the box is $\\boxed{\\frac{4}{7}}$."
      ],
      "text/plain": [
       "<IPython.core.display.Latex object>"
      ]
     },
     "metadata": {},
     "output_type": "display_data"
    },
    {
     "data": {
      "text/latex": [
       "$\\textbf{Error type: }$CONCENTRATION"
      ],
      "text/plain": [
       "<IPython.core.display.Latex object>"
      ]
     },
     "metadata": {},
     "output_type": "display_data"
    },
    {
     "data": {
      "text/latex": [
       "$\\textbf{Potential error: }$Student may mistakenly calculate the probability of pulling the prize out of the box instead of the probability of not pulling the prize out."
      ],
      "text/plain": [
       "<IPython.core.display.Latex object>"
      ]
     },
     "metadata": {},
     "output_type": "display_data"
    },
    {
     "data": {
      "text/latex": [
       "$\\textbf{Student's Solution: }$"
      ],
      "text/plain": [
       "<IPython.core.display.Latex object>"
      ]
     },
     "metadata": {},
     "output_type": "display_data"
    }
   ],
   "source": [
    "out = data_train[1]\n",
    "display(Latex(r\"$\\textbf{Question: }$\"))\n",
    "display(Latex(out['record'].question))\n",
    "display(Latex(r\"$\\textbf{Solution: }$\"))\n",
    "display(Latex(out['record'].formatted_solution))\n",
    "display(Latex(r\"$\\textbf{Error type: }$\" + out['error_type']))\n",
    "display(Latex(r\"$\\textbf{Potential error: }$\" + out['error_explanation']))\n",
    "\n",
    "display(Latex((r\"$\\textbf{Student's Solution: }$\")))\n",
    "\n"
   ]
  },
  {
   "cell_type": "code",
   "execution_count": 68,
   "id": "94677c45-ed4c-4d33-b445-2d61167ce194",
   "metadata": {},
   "outputs": [
    {
     "data": {
      "text/plain": [
       "{'record': MATH | Record: 1780 \t Question: Determine the number of ways to arrange the letters of the word MADAM.,\n",
       " 'error_type': 'CONCENTRATION',\n",
       " 'error_explanation': 'The student may have counted the total letters incorrectly. The student should have counted 5 instead of 4.',\n",
       " 'incorrect_solution': \"First we count the arrangements if all the letters are unique, which is $4!$. Then since the M's and the A's are not unique, we divide by $2!$ twice for the arrangements of M's and the arrangements of A's, for an answer of $\\\\dfrac{4!}{2! \\\\times 2!} = \\\\boxed{12}$.\",\n",
       " 'feedbacks': {'zeroshot_default': 'Good attempt, but it seems like you made a mistake in counting the initial number of arrangements. The word MADAM has 5 unique letters, not 4, so the correct number of arrangements if all the letters are unique is $5!$, not $4!$. Therefore, the correct answer should be $\\\\dfrac{5!}{2! \\\\times 2!} = 30$, not 12. Remember to carefully count the total number of arrangements in the beginning before considering the repetitions of letters. Keep up the good work!',\n",
       "  'zeroshot_wo_explanation': \"Great job on recognizing that the M's and the A's are not unique in the word MADAM and adjusting your calculation accordingly. However, it seems like there was a lapse in attention when counting the total number of arrangements. Remember that the word MADAM has 5 letters, not 4. Therefore, the correct total number of arrangements should be $5!$, not $4!$. Make sure to pay close attention to the details in the question to avoid making calculation errors in the future. Keep up the good work!\",\n",
       "  'zeroshot_with_explanation': 'Good effort on solving the question, but it seems like there was a concentration error in counting the total number of letters in the word MADAM. Remember, there are 5 letters in the word MADAM, not 4. Therefore, the correct total number of arrangements should be calculated using $5!$, not $4!$. Keep practicing and pay close attention to all the details in the question.'}}"
      ]
     },
     "execution_count": 68,
     "metadata": {},
     "output_type": "execute_result"
    }
   ],
   "source": [
    "out"
   ]
  },
  {
   "cell_type": "code",
   "execution_count": 119,
   "id": "aa16c736-ab22-450e-bb2c-95e2af47675d",
   "metadata": {},
   "outputs": [
    {
     "data": {
      "text/latex": [
       "$\\textbf{Question: }$What is the base-ten number represented by the base-eight number 31?"
      ],
      "text/plain": [
       "<IPython.core.display.Latex object>"
      ]
     },
     "metadata": {},
     "output_type": "display_data"
    },
    {
     "data": {
      "text/latex": [
       "$\\textbf{Solution: }$$31_8=3\\cdot8^1+1\\cdot8^0=\\boxed{25}$."
      ],
      "text/plain": [
       "<IPython.core.display.Latex object>"
      ]
     },
     "metadata": {},
     "output_type": "display_data"
    },
    {
     "data": {
      "text/latex": [
       "$\\textbf{STUDENT'S SOLUTION: }$$31_8=3\\cdot8^2+1\\cdot8^1=192+8=\\boxed{200}$."
      ],
      "text/plain": [
       "<IPython.core.display.Latex object>"
      ]
     },
     "metadata": {},
     "output_type": "display_data"
    },
    {
     "data": {
      "text/latex": [
       "================================================"
      ],
      "text/plain": [
       "<IPython.core.display.Latex object>"
      ]
     },
     "metadata": {},
     "output_type": "display_data"
    },
    {
     "data": {
      "text/latex": [
       "$\\textbf{Error Type + Explanation: }$"
      ],
      "text/plain": [
       "<IPython.core.display.Latex object>"
      ]
     },
     "metadata": {},
     "output_type": "display_data"
    },
    {
     "data": {
      "text/latex": [
       "Your mistake comes from incorrectly applying the base transformation formula. When converting a base-eight number to a base-ten number, you should multiply each digit by the corresponding power of eight, starting from the rightmost digit being multiplied by $8^0$. In this case, the correct calculation should be $3\\cdot8^1+1\\cdot8^0$ which equals 25, not 200. Make sure to double check your calculations and ensure you are applying the formula correctly in the future."
      ],
      "text/plain": [
       "<IPython.core.display.Latex object>"
      ]
     },
     "metadata": {},
     "output_type": "display_data"
    },
    {
     "data": {
      "text/latex": [
       "..."
      ],
      "text/plain": [
       "<IPython.core.display.Latex object>"
      ]
     },
     "metadata": {},
     "output_type": "display_data"
    },
    {
     "data": {
      "text/latex": [
       "..."
      ],
      "text/plain": [
       "<IPython.core.display.Latex object>"
      ]
     },
     "metadata": {},
     "output_type": "display_data"
    }
   ],
   "source": [
    "out = data_train[13]\n",
    "\n",
    "display(Latex(r\"$\\textbf{Question: }$\" + out['record'].question))\n",
    "display(Latex(r\"$\\textbf{Solution: }$\" + out['record'].formatted_solution))\n",
    "display(Latex((r\"$\\textbf{STUDENT'S SOLUTION: }$\"  + out['incorrect_solution'])))\n",
    "\n",
    "\n",
    "display(Latex(\"================================================\"))\n",
    "\n",
    "#display(Latex(r\"$\\textbf{Without Error Detection: }$\"))\n",
    "#display(Latex(out['feedbacks']['zeroshot_default']))\n",
    "#display(Latex(r\"$\\textbf{Only Error Type: }$\"))\n",
    "#display(Latex(out['feedbacks']['zeroshot_wo_explanation']))\n",
    "display(Latex(r\"$\\textbf{Error Type + Explanation: }$\"))\n",
    "display(Latex(out['feedbacks']['zeroshot_with_explanation']))\n",
    "display(Latex('...'))\n",
    "display(Latex('...'))"
   ]
  },
  {
   "cell_type": "code",
   "execution_count": 122,
   "id": "b7b54fff-5823-4504-97f1-7349fe54e946",
   "metadata": {
    "scrolled": true
   },
   "outputs": [
    {
     "data": {
      "text/latex": [
       "$\\textbf{Only Error Type: }$"
      ],
      "text/plain": [
       "<IPython.core.display.Latex object>"
      ]
     },
     "metadata": {},
     "output_type": "display_data"
    },
    {
     "data": {
      "text/latex": [
       "While you correctly converted the base-eight number 31 to base-ten in your solution, you made a mistake in your calculations. Remember that the value of each digit in a base-eight number is multiplied by the corresponding power of 8. Therefore, the correct calculation should be $3\\cdot8^1+1\\cdot8^0=3\\cdot8+1\\cdot1=24+1=\\boxed{25}$. Make sure to double check your arithmetic to avoid making similar mistakes in the future."
      ],
      "text/plain": [
       "<IPython.core.display.Latex object>"
      ]
     },
     "metadata": {},
     "output_type": "display_data"
    },
    {
     "data": {
      "text/latex": [
       "$\\textbf{Error Type + Explanation: }$"
      ],
      "text/plain": [
       "<IPython.core.display.Latex object>"
      ]
     },
     "metadata": {},
     "output_type": "display_data"
    },
    {
     "data": {
      "text/latex": [
       "Your mistake comes from incorrectly applying the base transformation formula. When converting a base-eight number to a base-ten number, you should multiply each digit by the corresponding power of eight, starting from the rightmost digit being multiplied by $8^0$. In this case, the correct calculation should be $3\\cdot8^1+1\\cdot8^0$ which equals 25, not 200. Make sure to double check your calculations and ensure you are applying the formula correctly in the future."
      ],
      "text/plain": [
       "<IPython.core.display.Latex object>"
      ]
     },
     "metadata": {},
     "output_type": "display_data"
    },
    {
     "data": {
      "text/latex": [],
      "text/plain": [
       "<IPython.core.display.Latex object>"
      ]
     },
     "metadata": {},
     "output_type": "display_data"
    },
    {
     "data": {
      "text/latex": [],
      "text/plain": [
       "<IPython.core.display.Latex object>"
      ]
     },
     "metadata": {},
     "output_type": "display_data"
    }
   ],
   "source": [
    "display(Latex(r\"$\\textbf{Only Error Type: }$\"))\n",
    "display(Latex(out['feedbacks']['zeroshot_wo_explanation']))\n",
    "display(Latex(r\"$\\textbf{Error Type + Explanation: }$\"))\n",
    "display(Latex(out['feedbacks']['zeroshot_with_explanation']))\n",
    "display(Latex(''))\n",
    "display(Latex(''))\n"
   ]
  },
  {
   "cell_type": "code",
   "execution_count": 143,
   "id": "9ec8ff76-7f1a-41a0-83b3-ebbb00c71c23",
   "metadata": {},
   "outputs": [
    {
     "data": {
      "text/plain": [
       "'Container A holds 4 red balls and 6 green balls; containers B and C each hold 6 red balls and 4 green balls. A container is selected at random and then a ball is randomly selected from that container. What is the probability that the ball selected is green? Express your answer as a common fraction.'"
      ]
     },
     "execution_count": 143,
     "metadata": {},
     "output_type": "execute_result"
    }
   ],
   "source": [
    "out = data_train[25]\n",
    "\n",
    "out['record'].question\n"
   ]
  },
  {
   "cell_type": "code",
   "execution_count": 146,
   "id": "101eb57a-9127-44f7-b917-8b6985d82b80",
   "metadata": {},
   "outputs": [
    {
     "data": {
      "text/plain": [
       "['S: A Düşesi 4 kırmızı top ve 6 yeşil top içerir; B ve C Düşeleri ise herbirinde 6 kırmızı top ve 4 yeşil top bulunmaktadır. Rastgele bir düşe seçilir ve daha sonra bu düşeden rastgele bir top seçilir. Seçilen topun yeşil olma olasılığı nedir? Cevabınızı basit kesir olarak ifade edin.']"
      ]
     },
     "execution_count": 146,
     "metadata": {},
     "output_type": "execute_result"
    }
   ],
   "source": [
    "gpt3.query('Translate all the question text to Turkish. Make sure that the logic and the equations in the question do not change.\\nQ:' + data_train[25]['record'].question)"
   ]
  },
  {
   "cell_type": "code",
   "execution_count": null,
   "id": "0b5d94bb-c820-4676-8653-a6ab14d8ae5a",
   "metadata": {},
   "outputs": [],
   "source": []
  }
 ],
 "metadata": {
  "kernelspec": {
   "display_name": "Python 3 (ipykernel)",
   "language": "python",
   "name": "python3"
  },
  "language_info": {
   "codemirror_mode": {
    "name": "ipython",
    "version": 3
   },
   "file_extension": ".py",
   "mimetype": "text/x-python",
   "name": "python",
   "nbconvert_exporter": "python",
   "pygments_lexer": "ipython3",
   "version": "3.11.4"
  }
 },
 "nbformat": 4,
 "nbformat_minor": 5
}
