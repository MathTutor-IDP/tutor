{
 "cells": [
  {
   "cell_type": "code",
   "execution_count": null,
   "id": "1ab11bab-d827-494c-9e16-e1ad8b84008a",
   "metadata": {},
   "outputs": [],
   "source": [
    "cd .."
   ]
  },
  {
   "cell_type": "code",
   "execution_count": null,
   "id": "08ea8407-9efd-4a2a-8e40-7946166c927d",
   "metadata": {},
   "outputs": [],
   "source": [
    "%load_ext autoreload"
   ]
  },
  {
   "cell_type": "code",
   "execution_count": null,
   "id": "7ff7176e-bd10-4432-a328-3ccde5a1217a",
   "metadata": {},
   "outputs": [],
   "source": [
    "%autoreload 2"
   ]
  },
  {
   "cell_type": "code",
   "execution_count": null,
   "id": "4c75aba0-fc2e-4b0d-9ca4-6e07a328d8ad",
   "metadata": {},
   "outputs": [],
   "source": [
    "# GLOABAL VARIABLES\n",
    "completion_tokens = 0\n",
    "prompt_tokens = 0"
   ]
  },
  {
   "cell_type": "code",
   "execution_count": null,
   "id": "74165927-cc93-40c5-86fe-365f58e168d3",
   "metadata": {},
   "outputs": [],
   "source": [
    "import datetime\n",
    "import json\n",
    "import random\n",
    "import openai as oai\n",
    "from openai import OpenAI\n",
    "from copy import copy, deepcopy\n",
    "\n",
    "def get_final_answer(solution):\n",
    "    # Finds final answer from string using //boxed highlight in LaTeX.\n",
    "    start = solution.rfind(\"boxed\") + 6\n",
    "    end = start + 1\n",
    "    bracket_counter = 0\n",
    "\n",
    "    # Find the end of //boxed{} area\n",
    "    while end < len(solution) and (solution[end] != '}' or bracket_counter != 0):\n",
    "        if solution[end] == '{':\n",
    "            bracket_counter += 1\n",
    "        if solution[end] == '}':\n",
    "            bracket_counter -= 1\n",
    "        end += 1\n",
    "        # Fail-safe for misused boxed at the end\n",
    "    if end == len(solution):\n",
    "        return \"ERROR\"\n",
    "    return solution[start:end]\n",
    "\n",
    "def gpt_usage(completion_tokens, prompt_tokens, backend):\n",
    "    if backend == \"gpt-4\":\n",
    "        cost = completion_tokens / 1000 * 0.06 + prompt_tokens / 1000 * 0.03\n",
    "    elif backend == \"gpt-3.5-turbo\":\n",
    "        cost = completion_tokens / 1000 * 0.002 + prompt_tokens / 1000 * 0.0015\n",
    "    return {\"completion_tokens\": completion_tokens, \"prompt_tokens\": prompt_tokens, \"cost\": cost}\n"
   ]
  },
  {
   "cell_type": "code",
   "execution_count": null,
   "id": "c20f4952-2e45-4592-b779-c13b57b17d16",
   "metadata": {},
   "outputs": [],
   "source": [
    "from IPython.display import display, Math, Latex\n",
    "\n",
    "def show_t(out):\n",
    "    display(Latex(r\"############################################\"))\n",
    "    display(Latex(r\"$\\textbf{Question \" +str(out['record'].id) + \": }$\"))\n",
    "    display(Latex(r\"$\\textbf{Question: }$\"))\n",
    "    display(Latex(out['record'].question))\n",
    "    display(Latex(r\"$\\textbf{Solution: }$\"))\n",
    "    display(Latex(out['record'].formatted_solution))\n",
    "    display(Latex(r\"$\\textbf{Error type: }$\" + out['error_type']))\n",
    "    display(Latex(r\"############################################\"))\n",
    "    display(Latex(r\"$\\textbf{GPT Solution: }$\"))\n",
    "    display(Latex((r\"$\\textbf{ERROR EXPLANATION: }$\"  + out['error_explanation'])))\n",
    "    display(Latex((r\"$\\textbf{STUDENT'S SOLUTION: }$\"  +out['incorrect_solution'])))"
   ]
  },
  {
   "cell_type": "code",
   "execution_count": null,
   "id": "a407e804-2d5b-48ee-bc9a-60f672e030d2",
   "metadata": {},
   "outputs": [],
   "source": [
    "STEP1 = \"\"\"\n",
    "QUESTION: Tom has a red marble, a green marble, a blue marble, and three identical yellow marbles. How many different groups of two marbles can Tom choose?\n",
    "CORRECT SOLUTION: There are two cases here: either Tom chooses two yellow marbles (1 result), or he chooses two marbles of different colors ($\\\\binom{4}{2}=6$ results). The total number of distinct pairs of marbles Tom can choose is $1+6=\\\\boxed{7}$.\n",
    "ERROR TYPE: LOGICAL\n",
    "ERROR EXPLANATION: Yellow marbles are thought as unique by the student. The student should have considered the yellow marbles as identical.\n",
    "\n",
    "QUESTION: Simplify $\\\\sqrt[3]{1+8} \\\\cdot \\\\sqrt[3]{1+\\\\sqrt[3]{8}}$.\n",
    "CORRECT SOLUTION: The first cube root becomes $\\\\sqrt[3]{9}$.\\n$\\\\sqrt[3]{8}=2$, so the second cube root becomes $\\\\sqrt[3]{3}$.\\nMultiplying these gives $\\\\sqrt[3]{27} = \\\\boxed{3}$.\n",
    "ERROR TYPE: CONCENTRATION\n",
    "ERROR EXPLANATION: Student took the square root instead of cube root in the first part of the expression which leads to an incorrect result for the entire expression.\n",
    "\n",
    "QUESTION: How many total days were there in the years 2001 through 2004?\n",
    "CORRECT SOLUTION: Including 2001 and 2004, there are 4 years total.\\nHowever, 2004 is a leap year.\\nTherefore, the number of days is $4\\\\times 365 + 1 = \\\\boxed{1461}$.\n",
    "ERROR TYPE: CONCENTRATION\n",
    "ERROR EXPLANATION: Student did not consider the leap year.\n",
    "\n",
    "QUESTION: Find the greatest common divisor of 91 and 72.\n",
    "CORRECT SOLUTION: $91 = 7^1 \\\\cdot 13^1$ and $72 = 2^3 \\\\cdot 3^2$, so gcd(91, 72) = $\\\\boxed{1}$.\n",
    "ERROR TYPE: LOGICAL\n",
    "ERROR EXPLANATION: Student performs the factorization correctly but fails to select greatest common divisor correctly.\n",
    "\n",
    "Write an explanation for a potential error that could be performed while attempting to solve this question. If error type is LOGICAL, make sure that the incorrect result comes from a missing knowledge or misunderstanding in a subject. If the error type is CONCENTRATION, make sure that the incorrect result comes from a computation error or overlooking a variable etc. Explain the error in one-two sentences.\n",
    "\n",
    "\"\"\""
   ]
  },
  {
   "cell_type": "code",
   "execution_count": null,
   "id": "43f63e35-5103-4843-81f2-94ba37e3deba",
   "metadata": {},
   "outputs": [],
   "source": [
    "STEP2 = \"\"\"\n",
    "QUESTION: Tom has a red marble, a green marble, a blue marble, and three identical yellow marbles. How many different groups of two marbles can Tom choose?\n",
    "CORRECT SOLUTION: There are two cases here: either Tom chooses two yellow marbles (1 result), or he chooses two marbles of different colors ($\\\\binom{4}{2}=6$ results). The total number of distinct pairs of marbles Tom can choose is $1+6=\\\\boxed{7}$.\n",
    "ERROR TYPE: LOGICAL\n",
    "ERROR EXPLANATION: Yellow marbles are thought as unique by the student. The student should have considered the yellow marbles as identical.\n",
    "STUDENT'S SOLUTION: Tom can choose $ c\\\\left(\\\\begin{array}{l} 6 \\\\ 2 \\\\end{array}\\\\right)=\\\\frac{6.5}{2}=\\\\boxed{15} $.\n",
    "\n",
    "QUESTION: Simplify $\\\\sqrt[3]{1+8} \\\\cdot \\\\sqrt[3]{1+\\\\sqrt[3]{8}}$.\n",
    "CORRECT SOLUTION: The first cube root becomes $\\\\sqrt[3]{9}$.\\n$\\\\sqrt[3]{8}=2$, so the second cube root becomes $\\\\sqrt[3]{3}$.\\nMultiplying these gives $\\\\sqrt[3]{27} = \\\\boxed{3}$.\n",
    "ERROR TYPE: CONCENTRATION\n",
    "ERROR EXPLANATION: Student incorrectly simplified the expression which leads to an incorrect result for the entire expression.\n",
    "STUDENT'S SOLUTION: The first cube root becomes $\\\\sqrt[3]{9}$.\\n$\\\\sqrt[3]{8}=2$, so the second cube root becomes $\\\\sqrt[3]{2}$.\\nMultiplying these gives $\\\\sqrt[3]{18} = \\x08oxed{\\\\sqrt[3]{18}}$.\n",
    "\n",
    "QUESTION: How many total days were there in the years 2001 through 2004?\n",
    "CORRECT SOLUTION: Including 2001 and 2004, there are 4 years total.\\nHowever, 2004 is a leap year.\\nTherefore, the number of days is $4\\\\times 365 + 1 = \\\\boxed{1461}$.\n",
    "ERROR TYPE: CONCENTRATION\n",
    "ERROR EXPLANATION: Leap year is overlooked.\n",
    "STUDENT'S SOLUTION: A year is 365 days. There are 4 years from 2001 through 2004.$4\\\\times 365 = \\\\boxed{1460}$.\n",
    "\n",
    "QUESTION: Find the greatest common divisor of 91 and 72.\n",
    "CORRECT SOLUTION: $91 = 7^1 \\\\cdot 13^1$ and $72 = 2^3 \\\\cdot 3^2$, so gcd(91, 72) = $\\\\boxed{1}$.\n",
    "ERROR TYPE: LOGICAL\n",
    "ERROR EXPLANATION: Student performs the factorization correctly but fails to select greatest common divisor.\n",
    "STUDENT'S SOLUTION: $91 = 7 \\\\cdot 13$, $72 = 8 \\\\cdot 9$, so gcd(91, 72) = $\\\\boxed{13}$.\n",
    "\n",
    "Act as a high school student attempting to solve the question, but made an error in the solution, which is characterized by ERROR TYPE and ERROR EXPLANATION.\n",
    "Write down your erroneous solution steps.\n",
    "\n",
    "\"\"\""
   ]
  },
  {
   "cell_type": "code",
   "execution_count": null,
   "id": "46cc2936-f3a6-42fb-aa67-50cefa9cc425",
   "metadata": {},
   "outputs": [],
   "source": [
    "from src.model.GPT import GPTModel\n",
    "from src.datasets.MATH import MATH, MATHRecord\n",
    "\n",
    "random.seed(42)\n",
    "\n",
    "# Prepare dataset\n",
    "dataset = MATH('data/math.jsonl')\n",
    "dataset.records = [rec for rec in dataset.records if len(rec.formatted_solution) < 750]\n",
    "# random.shuffle(dataset.records)\n",
    "print(dataset.categories)\n",
    "\n",
    "# Prepare model\n",
    "gpt3 = GPTModel(model=\"gpt-3.5-turbo-0125\", temperature=1, max_tokens=500)\n",
    "# gpt4 = GPTModel(model=\"gpt-4-turbo-2024-04-09\", temperature=1, max_tokens=500)\n",
    "\n",
    "output_format = {\n",
    "    'record': None,\n",
    "    'error_type': None,\n",
    "    'error_explanation': None,\n",
    "    'incorrect_solution': None\n",
    "}"
   ]
  },
  {
   "cell_type": "code",
   "execution_count": null,
   "id": "769a8481-ac12-468a-addd-5046752a945e",
   "metadata": {},
   "outputs": [],
   "source": [
    "def run_step1(record, error):\n",
    "    prompt = STEP1\n",
    "    \n",
    "    prompt += 'QUESTION: ' + record.question + '\\n'\n",
    "    prompt += 'CORRECT SOLUTION: ' + record.formatted_solution + '\\n'\n",
    "    prompt += 'ERROR TYPE: ' + error + '\\n'\n",
    "    prompt += 'ERROR EXPLANATION: '\n",
    "\n",
    "    explanations = gpt3.query(prompt)\n",
    "    return explanations[0]\n",
    "\n",
    "\n",
    "def run_step2(record, error, explanation):\n",
    "\n",
    "    prompt = STEP2\n",
    "    \n",
    "    prompt += 'QUESTION: ' + record.question + '\\n'\n",
    "    prompt += 'CORRECT SOLUTION: ' + record.formatted_solution + '\\n'\n",
    "    prompt += 'ERROR TYPE: ' + error + '\\n'\n",
    "    prompt += 'ERROR EXPLANATION: ' + explanation + '\\n'\n",
    "    prompt += 'STUDENT\\'S SOLUTION: '\n",
    "\n",
    "    solutions = gpt3.query(prompt)\n",
    "    return solutions[0]\n",
    "\n",
    "\n",
    "def run_for_category(cat, level, sample=5):\n",
    "    outputs = []\n",
    "    d = dataset.filter(cat, level)\n",
    "    for i in range(sample):\n",
    "        record = d[i]\n",
    "        error = random.choice(['CONCENTRATION', 'LOGICAL'])\n",
    "        out = copy(output_format)\n",
    "        \n",
    "        explanation = run_step1(record, error)\n",
    "        solution = run_step2(record, error, 'exp')\n",
    "\n",
    "        out['record'] = record\n",
    "        out['error_type'] = error\n",
    "        out['error_explanation'] = explanation\n",
    "        out['incorrect_solution'] = solution\n",
    "\n",
    "        outputs.append(out)\n",
    "        \n",
    "    return outputs"
   ]
  },
  {
   "cell_type": "code",
   "execution_count": null,
   "id": "09765292-9f7a-4a1f-965d-56e503bb4fc3",
   "metadata": {},
   "outputs": [],
   "source": [
    "# generate dataset for 140 questions\n",
    "all_outputs = {}\n",
    "for cat in dataset.categories:\n",
    "    all_outputs[cat] = {}\n",
    "    for lev in range(2, 6):\n",
    "        all_outputs[cat][lev] = run_for_category(cat, lev, sample=5)"
   ]
  },
  {
   "cell_type": "code",
   "execution_count": null,
   "id": "199493fe-abca-4043-b64e-5fa0e22ed4f1",
   "metadata": {},
   "outputs": [],
   "source": [
    "print(gpt3.estimated_cost())"
   ]
  },
  {
   "cell_type": "code",
   "execution_count": null,
   "id": "d78191cd-65ce-455d-ab8d-1550aa423f29",
   "metadata": {},
   "outputs": [],
   "source": [
    "import os\n",
    "import pickle\n",
    "path = 'output/080524_Experiment_TwoStepErrorDataset/'\n",
    "os.makedirs(path, exist_ok=True)"
   ]
  },
  {
   "cell_type": "code",
   "execution_count": null,
   "id": "3e24e8d9-d15f-47e9-a9db-9d1286059f8d",
   "metadata": {},
   "outputs": [],
   "source": [
    "for cat in all_outputs.keys():\n",
    "    for lev in all_outputs[cat].keys():\n",
    "        filename = f\"{cat.lower().replace(' ', '_')}_Level{lev}_Start0_End5.pkl\"\n",
    "        fp = path + filename\n",
    "        pickle.dump(all_outputs[cat][lev], open(fp, 'wb'))"
   ]
  },
  {
   "cell_type": "code",
   "execution_count": null,
   "id": "91bd1212-b01e-4d7f-8667-516090a2e1e5",
   "metadata": {},
   "outputs": [],
   "source": [
    "outlist = []\n",
    "for cat in all_outputs.keys():\n",
    "    for lev in all_outputs[cat].keys():\n",
    "        outlist += all_outputs[cat][lev]\n",
    "pickle.dump(outlist, open(path+'all_questions.pkl', 'wb'))"
   ]
  },
  {
   "cell_type": "markdown",
   "id": "9f40b0c2-2d05-4557-a530-e930b33e20d1",
   "metadata": {},
   "source": [
    "---"
   ]
  },
  {
   "cell_type": "markdown",
   "id": "1f727b09-063b-4872-bcf0-c39618555dbc",
   "metadata": {},
   "source": [
    "## Notes\n",
    "- Step 1 performed with GPT-3 and step 2 performed with GPT-4 but the performance did not increase\n",
    "- GPT-4 costs 0.07629 per 5 questions, tends to generate much more tokens\n",
    "- GPT-3 costs 0.00424 per 5 questions. For 100 questions, using gpt-3 in both steps, expected cost is 0.084$, ~9 cents.\n",
    "- Even though error_explanation generated reasonably, GPT fails to convert it into a solution with error. GPT-4 also fails to do.\n",
    "- GPT can not fail. Interesting finding.\n",
    "- 140 questions costed 0.1532485 cents with 2 step approach"
   ]
  },
  {
   "cell_type": "code",
   "execution_count": null,
   "id": "54537adb-f359-4873-9241-ffd6bbcc13de",
   "metadata": {},
   "outputs": [],
   "source": []
  }
 ],
 "metadata": {
  "kernelspec": {
   "display_name": "Python 3 (ipykernel)",
   "language": "python",
   "name": "python3"
  },
  "language_info": {
   "codemirror_mode": {
    "name": "ipython",
    "version": 3
   },
   "file_extension": ".py",
   "mimetype": "text/x-python",
   "name": "python",
   "nbconvert_exporter": "python",
   "pygments_lexer": "ipython3",
   "version": "3.11.4"
  }
 },
 "nbformat": 4,
 "nbformat_minor": 5
}
